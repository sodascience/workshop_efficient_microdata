{
 "cells": [
  {
   "cell_type": "code",
   "execution_count": 6,
   "id": "e6cf0276",
   "metadata": {},
   "outputs": [],
   "source": [
    "import polars as pl\n",
    "import pandas as pd\n",
    "import numpy as np\n",
    "import pyreadstat"
   ]
  },
  {
   "cell_type": "markdown",
   "id": "02fa045e",
   "metadata": {},
   "source": [
    "The path of the network files is in G:/Bevolking/ at CBS\n",
    "\n",
    "```\n",
    "path_family = \"FAMILIENETWERKTAB\"\n",
    "path_colleagues = \"COLLEGANETWERKTAB\"\n",
    "path_neigh = \"BURENNETWERKTAB\"\n",
    "path_school = \"KLASGENOTENNETWERKTAB\"\n",
    "path_household = \"HUISGENOTENNETWERKTAB\"\n",
    "```\n",
    "\n",
    "These files have three columns:\n",
    "- \"RINPERSOON\" the ID of the source\n",
    "- \"RINPERSOONRELATIE\" the ID of the target\n",
    "- \"RELATIE\", indicating the type of relationship (e.g. in family you can be a brother, or a stepaunt). \n",
    "\n",
    "I will be using polars instead of pandas for performance. These are big CSV files, and polars is super fast.\n"
   ]
  },
  {
   "cell_type": "markdown",
   "id": "de8aa5b8",
   "metadata": {},
   "source": [
    "# 1. How to create a network variable\n",
    "### Simpler case: calculate the share of family members with kids, and the total number of kids\n",
    "\n",
    "In the same way you can create other \"network variables\", such as the income of your family members. You'd just need to read the income table and merge it in the last step to calculate the average income."
   ]
  },
  {
   "cell_type": "code",
   "execution_count": null,
   "id": "0cd4829c",
   "metadata": {},
   "outputs": [],
   "source": [
    "# Read the IDs in our sample (to filter the network)\n",
    "ids = (pl.scan_csv(\"H:/DATASETS/ids_final.csv\") #scan_csv doesn't do anything, just prepare the data to be read\n",
    "        .select([\"RINPERSOON\"]) #select column\n",
    "        .collect() #tell polars to actually read the data\n",
    "      )\n",
    "ids.head()"
   ]
  },
  {
   "cell_type": "code",
   "execution_count": null,
   "id": "95521226",
   "metadata": {},
   "outputs": [],
   "source": [
    "# Read the network. Keep close family (check the codebook!)\n",
    "path_family = \"FAMILIENETWERKTAB\"\n",
    "year = 2019\n",
    "#note the curly brackets, they denote a set. \n",
    "#Finding an element in a set is much much faster than finding one in a list\n",
    "close_family = {301, 302, 303, 304, 305, 306, 307, 308, 312, 313, 314, 315, 316, 317, 318, 319} #(step)partners, (step)parents, grandparents, (step)siblings\n",
    "\n",
    "df_family = (\n",
    "    pl.scan_csv(f\"G:/Bevolking/{path_family}/{path_family[:-3]}{year}TABV1.csv\", separator=\";\")\n",
    "    .filter(pl.col(\"RELATIE\").is_in(close_family)) #keep only some rows\n",
    "    .select([\"RINPERSOON\", \"RINPERSOONRELATIE\"]) #select columns\n",
    "    .collect() #actually read data\n",
    ")\n",
    "\n",
    "df_family.head()"
   ]
  },
  {
   "cell_type": "code",
   "execution_count": null,
   "id": "fa7c3632",
   "metadata": {},
   "outputs": [],
   "source": [
    "# Read the number of kids per person\n",
    "# We are going to merge the newtork by the family member, \n",
    "#so we change the columns name to match it\n",
    "df_number_kids = pl.read_csv(\"H:/DATASETS/number_kids_all_people.csv\") #read data directly, we want to keep everything\n",
    "df_number_kids = df_number_kids.rename({\"RINPERSOON\": \"RINPERSOONRELATIE\"}) #rename column\n",
    "df_number_kids.head()"
   ]
  },
  {
   "cell_type": "code",
   "execution_count": null,
   "id": "b3297f31",
   "metadata": {},
   "outputs": [],
   "source": [
    "# Left join to filter out people (egos, rinpersson) in df_family who was not in our initial sample.\n",
    "# the \"alters\" (rinpersoonrelatie) can be outside of our sample, e.g. a 50 year old man with children\n",
    "df_family_filtered = ids.join(df_family, on=\"RINPERSOON\", how=\"left\")\n",
    "# add the children of your family members\n",
    "del df_family #free up memory\n",
    "df_family_filtered = df_family_filtered.join(df_number_kids, on=\"RINPERSOONRELATIE\", how=\"left\")\n",
    "df_family_filtered.head()"
   ]
  },
  {
   "cell_type": "code",
   "execution_count": null,
   "id": "59968cb3",
   "metadata": {},
   "outputs": [],
   "source": [
    "# Add 3 new binary columns, with the people that had a kid, had a kid in the last 3 and 5 years\n",
    "# MAKE YOUR OWN COLUMNS, I don't know anything about fertility\n",
    "df_family_filtered = (df_family_filtered\n",
    " .with_columns(pl.col(\"number_kids\").fill_null(0)) #fill missing values\n",
    " .with_columns((pl.col(\"year_last_kid\")>2016).alias(\"kid_last_3\").fill_null(0)) #create new column\n",
    " .with_columns((pl.col(\"year_last_kid\")>2014).alias(\"kid_last_5\").fill_null(0))\n",
    " .with_columns((pl.col(\"number_kids\")>0).alias(\"at_least_1_kid\").fill_null(0))\n",
    "                     )\n",
    "df_family_filtered.head()"
   ]
  },
  {
   "cell_type": "code",
   "execution_count": 107,
   "id": "a5bb1dfb",
   "metadata": {},
   "outputs": [],
   "source": [
    "# Group by person to get the total number of kids, \n",
    "#the share of family with a kid in the last 3 and 5 years, \n",
    "#and the share of family with at least 1 kid\n",
    "df_family_filtered = df_family_filtered.groupby(\"RINPERSOON\").agg([\n",
    "                                            pl.col(\"number_kids\").sum(),\n",
    "                                            pl.col(\"kid_last_3\").mean(),\n",
    "                                            pl.col(\"kid_last_5\").mean(),\n",
    "                                            pl.col(\"at_least_1_kid\").mean()\n",
    "                                            ])\n",
    "\n"
   ]
  },
  {
   "cell_type": "code",
   "execution_count": null,
   "id": "d5a190e1",
   "metadata": {},
   "outputs": [],
   "source": [
    "# Convert to pandas (slightly inefficient since CBS forgot to install a library. Usually you can just do df_family_filtered.to_pandas()))\n",
    "# You can merge this with your other features\n",
    "# You don't need to convert it if you want to save it to disk (df_collega_filtered.to_csv())\n",
    "df_family_filtered = pd.DataFrame(df_family_filtered.to_dict())\n",
    "df_family_filtered"
   ]
  },
  {
   "cell_type": "markdown",
   "id": "3180f271",
   "metadata": {},
   "source": [
    "# 2. How to create a variable joining two network files\n",
    "### A bit more complicated case: calculate the share of your colleagues's siblings with kids\n",
    "\n",
    "This takes ~15 minutes to run. After it's finished please clean up removing unnecessary dataframes, or stopping the kernel if you are done.\n",
    "\n",
    "If you add other family members it'll increase the computation time.\n",
    "\n",
    "Other cases are similar: e.g. the families of your families, the families of your colleagues, the colleagues of your family, etc\n",
    "\n"
   ]
  },
  {
   "cell_type": "code",
   "execution_count": null,
   "id": "c2fcd85c",
   "metadata": {},
   "outputs": [],
   "source": [
    "# Read the IDs in our population (to filter the network)\n",
    "ids = (pl.scan_csv(\"H:/DATASETS/ids_final.csv\") #scan_csv doesn't do anything, just prepare the data to be read\n",
    "        .select([\"RINPERSOON\"]) #select column\n",
    "        .collect() #tell polars to actually read the data\n",
    "      )\n",
    "ids.head()"
   ]
  },
  {
   "cell_type": "code",
   "execution_count": null,
   "id": "c6054021",
   "metadata": {},
   "outputs": [],
   "source": [
    "# Read the newtork. Keep siblings only (check the codebook!) and colleagues\n",
    "\n",
    "path_family = \"FAMILIENETWERKTAB\"\n",
    "path_colleagues = \"COLLEGANETWERKTAB\"\n",
    "year = 2019\n",
    "\n",
    "df_family = (\n",
    "    pl.scan_csv(f\"G:/Bevolking/{path_family}/{path_family[:-3]}{year}TABV1.csv\", separator=\";\")\n",
    "    .filter(pl.col(\"RELATIE\")==306) #keep only some rows (full siblings = 306)\n",
    "    .select([\"RINPERSOON\", \"RINPERSOONRELATIE\"]) #select columns\n",
    "    .collect() #actually read data\n",
    ")\n",
    "\n",
    "df_collega = (\n",
    "    pl.scan_csv(f\"G:/Bevolking/{path_colleagues}/{path_colleagues[:-3]}{year}TABV1.csv\", separator=\";\")\n",
    "    .select([\"RINPERSOON\", \"RINPERSOONRELATIE\"])\n",
    "    .collect()\n",
    ")\n",
    "\n",
    "df_collega.head()"
   ]
  },
  {
   "cell_type": "code",
   "execution_count": 8,
   "id": "8ac03d1e",
   "metadata": {},
   "outputs": [
    {
     "data": {
      "text/plain": [
       "(685722380, 2)"
      ]
     },
     "execution_count": 8,
     "metadata": {},
     "output_type": "execute_result"
    }
   ],
   "source": [
    "#Huge file! 700M rows\n",
    "df_collega.shape"
   ]
  },
  {
   "cell_type": "code",
   "execution_count": null,
   "id": "fbca8699",
   "metadata": {},
   "outputs": [],
   "source": [
    "# We are interested in the family of our colleagues. \n",
    "#So we will merge df_collega to df_family using RINPERSOONRELATIE of df_collega and RINPERSOON of df_family\n",
    "df_family = df_family.rename({\"RINPERSOON\": \"RINPERSOONRELATIE\", \"RINPERSOONRELATIE\": \"RIN_family_colleague\"})\n",
    "df_family.head(1)"
   ]
  },
  {
   "cell_type": "code",
   "execution_count": null,
   "id": "d09e5e45",
   "metadata": {},
   "outputs": [],
   "source": [
    "# Read the number of kids per person\n",
    "# We are going to merge the newtork by the family member, \n",
    "#so we change the columns name to match it\n",
    "df_number_kids = pl.read_csv(\"H:/DATASETS/number_kids_all_people.csv\") #read data directly, we want to keep everything\n",
    "df_number_kids = df_number_kids.rename({\"RINPERSOON\": \"RIN_family_colleague\"}) #rename column\n",
    "df_number_kids.head()"
   ]
  },
  {
   "cell_type": "code",
   "execution_count": null,
   "id": "3e6405e9",
   "metadata": {},
   "outputs": [],
   "source": [
    "# Left join to filter out people (egos, rinpersson) in df_collega who was not in our initial sample.\n",
    "df_collega_filtered = ids.join(df_collega, on=\"RINPERSOON\", how=\"left\")\n",
    "del df_collega #free up memory\n",
    "# Add the siblings of your colleagues\n",
    "df_collega_filtered = df_collega_filtered.join(df_family, on=\"RINPERSOONRELATIE\", how=\"left\")\n",
    "del df_family #free up memory\n",
    "# add the children of the siblings of your colleagues\n",
    "df_collega_filtered = df_collega_filtered.join(df_number_kids, on=\"RIN_family_colleague\", how=\"left\")\n",
    "df_collega_filtered.head()"
   ]
  },
  {
   "cell_type": "code",
   "execution_count": 12,
   "id": "d95a2e90",
   "metadata": {},
   "outputs": [
    {
     "data": {
      "text/plain": [
       "(624410373, 6)"
      ]
     },
     "execution_count": 12,
     "metadata": {},
     "output_type": "execute_result"
    }
   ],
   "source": [
    "# Huge dataset!\n",
    "df_collega_filtered.shape"
   ]
  },
  {
   "cell_type": "code",
   "execution_count": null,
   "id": "d7aa8cb1",
   "metadata": {},
   "outputs": [],
   "source": [
    "# Add 3 new binary columns, with the people that had a kid, had a kid in the last 3 and 5 years\n",
    "# MAKE YOUR OWN COLUMNS\n",
    "df_collega_filtered = (df_collega_filtered\n",
    " .with_columns(pl.col(\"number_kids\").fill_null(0)) #fill missing values\n",
    " .with_columns((pl.col(\"year_last_kid\")>2016).alias(\"kid_last_3\").fill_null(0)) #create new column\n",
    " .with_columns((pl.col(\"year_last_kid\")>2014).alias(\"kid_last_5\").fill_null(0))\n",
    " .with_columns((pl.col(\"number_kids\")>0).alias(\"at_least_1_kid\").fill_null(0)))\n",
    "df_collega_filtered.head()"
   ]
  },
  {
   "cell_type": "code",
   "execution_count": null,
   "id": "3215767e",
   "metadata": {},
   "outputs": [],
   "source": [
    "# Group by person to get the total number of kids, \n",
    "#the share of family with a kid in the last 3 and 5 years, \n",
    "#and the share of family with at least 1 kid\n",
    "df_collega_filtered = df_collega_filtered.groupby(\"RINPERSOON\").agg([\n",
    "                                            pl.col(\"number_kids\").sum(),\n",
    "                                            pl.col(\"kid_last_3\").mean(),\n",
    "                                            pl.col(\"kid_last_5\").mean(),\n",
    "                                            pl.col(\"at_least_1_kid\").mean()\n",
    "                                            ])\n",
    "\n",
    "# Convert to pandas (slightly inefficient since CBS forgot to install a library)\n",
    "# You can merge this with your other features\n",
    "# You don't need to convert it if you want to save it to disk (df_collega_filtered.to_csv())\n",
    "df_collega_filtered = pd.DataFrame(df_collega_filtered.to_dict())\n",
    "df_collega_filtered"
   ]
  },
  {
   "cell_type": "markdown",
   "id": "8414630b",
   "metadata": {},
   "source": [
    "# 3. Create school networks\n",
    "You are only in the school network when you're in school. I'll concatenate your classmates in secondary education"
   ]
  },
  {
   "cell_type": "code",
   "execution_count": 7,
   "id": "0544a4dd",
   "metadata": {},
   "outputs": [],
   "source": [
    "path_school = \"KLASGENOTENNETWERKTAB\"\n",
    "# I believe the information of some layers is missing for some years. \n",
    "# 504, 505 and 506 (higher education) connect many people (e.g. if you are in economics you'll be connected to every person in your year)\n",
    "# I'm keeping only secondary education\n",
    "#{501, 502, 503, 504, 505, 506} #primary, special onderwijs, secondary, prof, prof2, uni \n"
   ]
  },
  {
   "cell_type": "code",
   "execution_count": 8,
   "id": "4ae00417",
   "metadata": {},
   "outputs": [
    {
     "data": {
      "text/plain": [
       "(6695926, 1)"
      ]
     },
     "execution_count": 8,
     "metadata": {},
     "output_type": "execute_result"
    }
   ],
   "source": [
    "# Read the IDs in our population (to filter the network)\n",
    "ids = (pl.scan_csv(\"H:/DATASETS/ids_final.csv\") #scan_csv doesn't do anything, just prepare the data to be read\n",
    "        .select([\"RINPERSOON\"]) #select column\n",
    "        .collect() #tell polars to actually read the data\n",
    "      )\n",
    "\n",
    "ids.shape"
   ]
  },
  {
   "cell_type": "code",
   "execution_count": null,
   "id": "de9bd3a7",
   "metadata": {},
   "outputs": [],
   "source": [
    "%%time\n",
    "# I'm curious to see how long it takes (it may take too long)\n",
    "\n",
    "path_school = \"KLASGENOTENNETWERKTAB\"\n",
    "\n",
    "# Concatenating all files, merging them in the spot to reduce size\n",
    "df_school = pl.concat(\n",
    "    [\n",
    "        ids.join((pl.scan_csv(f\"G:/Bevolking/{path_school}/{path_school[:-3]}{year}TABV1.csv\", separator=\";\")\n",
    "            .filter(pl.col(\"RELATIE\")==503) #keep secondary school\n",
    "            .select([\"RINPERSOON\", \"RINPERSOONRELATIE\"])\n",
    "            ).collect(), on=\"RINPERSOON\", how=\"left\")\n",
    "        for year in range(2009,2020) #concatenate the data for all years\n",
    "    ]\n",
    ")\n",
    "\n",
    "# Remove duplicates\n",
    "df_school = df_school.unique(subset=[\"RINPERSOON\", \"RINPERSOONRELATIE\"]) \n",
    "\n",
    "# This dataset you can either use it as in the first example \n",
    "# (to calculate the kids of your past classmates), or the second example\n",
    "# (to calculate the kids of the xx of your past classmates)\n",
    "df_school"
   ]
  },
  {
   "cell_type": "code",
   "execution_count": 5,
   "id": "cae7156a",
   "metadata": {},
   "outputs": [],
   "source": []
  },
  {
   "cell_type": "code",
   "execution_count": 10,
   "id": "d0c424e0",
   "metadata": {},
   "outputs": [],
   "source": [
    "# This deletes all variables. I'm doing it to free up the memory for other users.\n",
    "# Make sure you saved the dataframes you want to save before runnign this!\n",
    "%reset -f"
   ]
  },
  {
   "cell_type": "code",
   "execution_count": null,
   "id": "c2361f33",
   "metadata": {},
   "outputs": [],
   "source": []
  }
 ],
 "metadata": {
  "kernelspec": {
   "display_name": "Python 3 (ipykernel)",
   "language": "python",
   "name": "python3"
  },
  "language_info": {
   "codemirror_mode": {
    "name": "ipython",
    "version": 3
   },
   "file_extension": ".py",
   "mimetype": "text/x-python",
   "name": "python",
   "nbconvert_exporter": "python",
   "pygments_lexer": "ipython3",
   "version": "3.9.15"
  }
 },
 "nbformat": 4,
 "nbformat_minor": 5
}
