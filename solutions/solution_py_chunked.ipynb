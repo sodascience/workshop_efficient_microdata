{
 "cells": [
  {
   "cell_type": "code",
   "execution_count": 44,
   "id": "76d0ae63-a5b6-466a-aeb8-24764bf7f721",
   "metadata": {},
   "outputs": [],
   "source": [
    "import pyreadstat # read SAV files\n",
    "import tempfile # write temporary files\n",
    "\n",
    "import numpy as np\n",
    "import pandas as pd\n",
    "import pylab as plt\n",
    "import seaborn as sns\n",
    "\n",
    "from tqdm.notebook import tqdm # track progress"
   ]
  },
  {
   "cell_type": "code",
   "execution_count": 2,
   "id": "87f04282-a27f-4be1-ba38-b83be8fa227f",
   "metadata": {},
   "outputs": [],
   "source": [
    "# Set up paths\n",
    "fpath = \"../fake_cbs_data/Spolis/SPOLISBUS2022V2.sav\"\n",
    "chunk_size = 1_000_000"
   ]
  },
  {
   "cell_type": "code",
   "execution_count": 28,
   "id": "f0548151-89bd-4d30-ab9f-3cbdc9ba5ed8",
   "metadata": {},
   "outputs": [],
   "source": [
    "# Define functions\n",
    "\n",
    "def compute_stats(df):\n",
    "    df['hourlywage'] = df['SBASISLOON'] / np.maximum(df['SBASISUREN'], 1)\n",
    "    result = df.groupby('SCONTRACTSOORT').agg(\n",
    "        sum=('hourlywage', 'sum'),\n",
    "        ssq=('hourlywage', lambda x: (x**2).sum()),\n",
    "        n=('hourlywage', 'size')\n",
    "    )\n",
    "    return result.reset_index()"
   ]
  },
  {
   "cell_type": "code",
   "execution_count": 4,
   "id": "3e897a1e-32a9-4336-bf09-391c680eec40",
   "metadata": {},
   "outputs": [
    {
     "name": "stdout",
     "output_type": "stream",
     "text": [
      "174150000\n"
     ]
    },
    {
     "data": {
      "text/plain": [
       "{'labels0': {'R': 'RINPERSOON WEL IN GBA'},\n",
       " 'labels1': {'B': 'Bepaalde tijd',\n",
       "  'O': 'Onbepaalde tijd',\n",
       "  'N': 'Niet van toepassing'}}"
      ]
     },
     "execution_count": 4,
     "metadata": {},
     "output_type": "execute_result"
    }
   ],
   "source": [
    "# Look at what's inside the SAV file\n",
    "df, meta = pyreadstat.read_sav(fpath, metadataonly=True)\n",
    "\n",
    "# Number of rows\n",
    "print(meta.number_rows)\n",
    "\n",
    "# Codebook\n",
    "meta.value_labels"
   ]
  },
  {
   "cell_type": "markdown",
   "id": "74c49413-19fe-46f8-8a85-eb057398e79f",
   "metadata": {},
   "source": [
    "## Reading SAV files is slow in python! (but you usually do it only once)"
   ]
  },
  {
   "cell_type": "code",
   "execution_count": 31,
   "id": "183663db-0c4a-4906-b243-4255d9174f22",
   "metadata": {},
   "outputs": [
    {
     "data": {
      "application/vnd.jupyter.widget-view+json": {
       "model_id": "b96521edf0424ff4a884eb290eb67c3a",
       "version_major": 2,
       "version_minor": 0
      },
      "text/plain": [
       "  0%|          | 0/174 [00:00<?, ?it/s]"
      ]
     },
     "metadata": {},
     "output_type": "display_data"
    }
   ],
   "source": [
    "# Start the reader, it reads the file in chunks\n",
    "reader = pyreadstat.read_file_in_chunks(pyreadstat.read_sav, \n",
    "                                        fpath, \n",
    "                                        chunksize = 1_000_000, \n",
    "                                        usecols=['SBASISLOON', 'SBASISUREN', 'SCONTRACTSOORT'],\n",
    "                                        formats_as_category=False, # this is crucial to speed up reading, but you'll need to rename \n",
    "                                        multiprocess=False)\n",
    "                                        #multiprocess=True, # it doesn't improve performance in this data set. It might in the RA!\n",
    "                                        #num_processes=8) # use 8 cores\n",
    "\n",
    "\n",
    "# Open a temporary file (much faster than \n",
    "with tempfile.NamedTemporaryFile() as f:    \n",
    "    for df, _ in tqdm(reader, total = meta.number_rows // chunk_size):\n",
    "        # compute stats\n",
    "        df = compute_stats(df)\n",
    "\n",
    "        # save to temporary file (much faster than concatenating dataframes)\n",
    "        df.to_csv(f, header=None, index=None)\n",
    "        \n",
    "    \n",
    "    # read the temporary file (it is destroyed automatically when finished)\n",
    "    df_agg = pd.read_csv(f.name, header=None)\n",
    "    df_agg.columns = df.columns"
   ]
  },
  {
   "cell_type": "code",
   "execution_count": 53,
   "id": "8146cf8d-af5b-4efc-83f8-972a11d7fb39",
   "metadata": {},
   "outputs": [
    {
     "data": {
      "image/png": "[encoded data removed]",
      "text/plain": [
       "<Figure size 600x300 with 1 Axes>"
      ]
     },
     "metadata": {},
     "output_type": "display_data"
    }
   ],
   "source": [
    "# One extra aggregation step because of the concatenation\n",
    "result_agg = df_agg.groupby('SCONTRACTSOORT').sum()\n",
    "result_agg.index = result_agg.index.map(meta.value_labels[\"labels1\"])\n",
    "\n",
    "# Compute the statistics we want\n",
    "result_agg['mean'] = result_agg['sum'] / result_agg['n']\n",
    "result_agg['var'] = result_agg['ssq'] / result_agg['n'] - (result_agg['sum'] / result_agg['n'])**2\n",
    "result_agg['sd'] = np.sqrt(result_agg['var'])\n",
    "result_agg['sem'] = result_agg['sd'] / np.sqrt(result_agg['n'])\n",
    "\n",
    "# Create plot\n",
    "fig, ax = plt.subplots(figsize=(6,3))\n",
    "\n",
    "result_agg.reset_index().plot(\n",
    "    y='SCONTRACTSOORT', x='mean', xerr=[1.96 * result_agg['sem'], 1.96 * result_agg['sem']],\n",
    "    kind='scatter', ax=ax, color=\"k\"\n",
    ")\n",
    "\n",
    "ax.set(\n",
    "    ylabel='Contract type',\n",
    "    xlabel='Average wage',\n",
    "    title='Average wage per unit time for different contract types.'\n",
    ")\n",
    "\n",
    "plt.grid(axis=\"x\")\n",
    "sns.despine(left=True, bottom=True)\n"
   ]
  }
 ],
 "metadata": {
  "kernelspec": {
   "display_name": "Python [conda env:st]",
   "language": "python",
   "name": "conda-env-st-py"
  },
  "language_info": {
   "codemirror_mode": {
    "name": "ipython",
    "version": 3
   },
   "file_extension": ".py",
   "mimetype": "text/x-python",
   "name": "python",
   "nbconvert_exporter": "python",
   "pygments_lexer": "ipython3",
   "version": "3.10.12"
  }
 },
 "nbformat": 4,
 "nbformat_minor": 5
}
